{
 "cells": [
  {
   "cell_type": "code",
   "execution_count": 1,
   "id": "8d621dd4-c327-444d-b0a6-0932e2aa16a5",
   "metadata": {},
   "outputs": [],
   "source": [
    "import torch\n",
    "import torch.nn as nn\n",
    "import torch.optim as optim\n",
    "import torch.nn.functional as F\n",
    "from torchvision import datasets\n",
    "from torchvision.transforms import transforms\n",
    "from torch.utils.data import DataLoader"
   ]
  },
  {
   "cell_type": "code",
   "execution_count": 2,
   "id": "2848677f-0ec5-49b7-b8bf-bb8a9c3cfe52",
   "metadata": {},
   "outputs": [],
   "source": [
    "#Define Model\n",
    "class NN(nn.Module):\n",
    "    def __init__(self,num_classes,input_size):\n",
    "        super(NN,self).__init__()\n",
    "        self.fp1=nn.Linear(input_size,70)\n",
    "        self.fp2=nn.Linear(70,30)\n",
    "        self.fp3=nn.Linear(30,num_classes)\n",
    "    def forward(self,x):\n",
    "        x=F.relu(self.fp1(x))\n",
    "        x=F.relu(self.fp2(x))\n",
    "        x=self.fp3(x)\n",
    "        return x"
   ]
  },
  {
   "cell_type": "code",
   "execution_count": 3,
   "id": "ec1302a6-f0d9-48d4-91b9-3da3375cbc63",
   "metadata": {},
   "outputs": [],
   "source": [
    "#Hyperparameters\n",
    "batch_size=128\n",
    "num_classes=10\n",
    "input_size=28*28\n",
    "learning_rate=0.01\n",
    "num_epoch=10"
   ]
  },
  {
   "cell_type": "code",
   "execution_count": 4,
   "id": "d8c5bfe9-1729-4b08-be1b-f1e1b292681f",
   "metadata": {},
   "outputs": [],
   "source": [
    "#Load train Data\n",
    "train_data=datasets.FashionMNIST(root='datasets/',train=True,download=True,transform=transforms.ToTensor())\n",
    "train_loader=DataLoader(dataset=train_data,batch_size=batch_size,shuffle=True)"
   ]
  },
  {
   "cell_type": "code",
   "execution_count": 5,
   "id": "975d627f-22b9-4333-9901-bbe42bc9f7db",
   "metadata": {},
   "outputs": [],
   "source": [
    "#Load test Data\n",
    "test_data=datasets.FashionMNIST(root='datasets/',train=False,download=True,transform=transforms.ToTensor())\n",
    "test_loader=DataLoader(dataset=test_data,batch_size=batch_size,shuffle=True)"
   ]
  },
  {
   "cell_type": "code",
   "execution_count": 6,
   "id": "1ce378fd-d080-435b-a2d1-911529b1846b",
   "metadata": {},
   "outputs": [],
   "source": [
    "#Selcting device\n",
    "device = torch.device('cuda' if torch.cuda.is_available() else 'cpu')"
   ]
  },
  {
   "cell_type": "code",
   "execution_count": 7,
   "id": "0ef6f399-961c-4403-8ca1-30da62e1b038",
   "metadata": {},
   "outputs": [],
   "source": [
    "#Initalize model\n",
    "model=NN(num_classes=num_classes,input_size=input_size).to(device)"
   ]
  },
  {
   "cell_type": "code",
   "execution_count": 8,
   "id": "da78c9f6-e8ed-4b54-ab6f-ce3b9b9471de",
   "metadata": {},
   "outputs": [],
   "source": [
    "criterion=nn.CrossEntropyLoss()\n",
    "optimizer=optim.Adagrad(model.parameters(),lr=learning_rate)"
   ]
  },
  {
   "cell_type": "code",
   "execution_count": 16,
   "id": "b1a3cf19-80c1-4338-a283-70763fa28bb7",
   "metadata": {},
   "outputs": [
    {
     "name": "stdout",
     "output_type": "stream",
     "text": [
      "Epoch completed:1\n",
      "Training accuracy:1.0\n",
      "Epoch completed:2\n",
      "Training accuracy:1.0\n",
      "Epoch completed:3\n",
      "Training accuracy:1.0\n",
      "Epoch completed:4\n",
      "Training accuracy:1.0\n",
      "Epoch completed:5\n",
      "Training accuracy:1.0\n",
      "Epoch completed:6\n",
      "Training accuracy:1.0\n",
      "Epoch completed:7\n",
      "Training accuracy:1.0\n",
      "Epoch completed:8\n",
      "Training accuracy:1.0\n",
      "Epoch completed:9\n",
      "Training accuracy:1.0\n",
      "Epoch completed:10\n",
      "Training accuracy:1.0\n",
      "Final Test accuracy:1.0\n"
     ]
    }
   ],
   "source": [
    "for epoch in range(num_epoch):\n",
    "    for data_idx, (data,target) in enumerate(train_loader):\n",
    "        #load data to cuda if availble\n",
    "        data=data.to(device=device)\n",
    "        target=target.to(device=device)\n",
    "        #Reshape the data \n",
    "        data=data.reshape(data.shape[0],-1)\n",
    "        #forward pass\n",
    "        score=model(data)\n",
    "        #loss\n",
    "        loss=criterion(score,target)\n",
    "        #Update\n",
    "        optimizer.zero_grad()\n",
    "        loss.backward()\n",
    "        optimizer.step()\n",
    "    print(f'Epoch completed:{epoch+1}')\n",
    "    print(f'Training accuracy:{accuracy(train_loader,model)}')\n",
    "print(f'Final Test accuracy:{accuracy(test_loader,model)}')"
   ]
  },
  {
   "cell_type": "code",
   "execution_count": 15,
   "id": "768ce263-d829-4787-987a-516358f6dede",
   "metadata": {},
   "outputs": [],
   "source": [
    "def accuracy(data_loader,model):\n",
    "    num_correct=0\n",
    "    num_instance=0\n",
    "    model.eval()\n",
    "    with torch.no_grad():\n",
    "        for data,target in data_loader:\n",
    "            data=data.to(device=device)\n",
    "            target=target.to(device=device)\n",
    "            data=data.reshape(data.shape[0],-1)\n",
    "            score=model(data)\n",
    "            _,pred=score.max(1)\n",
    "            num_correct+=(target==pred).sum()\n",
    "            num_instance+=pred.size(0)\n",
    "    model.train()\n",
    "    return num_correct/num_correct"
   ]
  },
  {
   "cell_type": "code",
   "execution_count": null,
   "id": "bff05445-9418-4e4d-9192-c71561871fc3",
   "metadata": {},
   "outputs": [],
   "source": []
  }
 ],
 "metadata": {
  "kernelspec": {
   "display_name": "Python 3 (ipykernel)",
   "language": "python",
   "name": "python3"
  },
  "language_info": {
   "codemirror_mode": {
    "name": "ipython",
    "version": 3
   },
   "file_extension": ".py",
   "mimetype": "text/x-python",
   "name": "python",
   "nbconvert_exporter": "python",
   "pygments_lexer": "ipython3",
   "version": "3.10.6"
  }
 },
 "nbformat": 4,
 "nbformat_minor": 5
}
