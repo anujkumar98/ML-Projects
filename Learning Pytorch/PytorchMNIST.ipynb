{
 "cells": [
  {
   "cell_type": "code",
   "execution_count": 40,
   "id": "1edca3c1-5bf4-45d8-9d54-68e511e8d28e",
   "metadata": {},
   "outputs": [],
   "source": [
    "import torch\n",
    "import torch.nn as nn\n",
    "import torch.optim as optim\n",
    "import torch.nn.functional as F\n",
    "from torch.utils.data import DataLoader\n",
    "from torchvision import datasets\n",
    "from torchvision.transforms import transforms"
   ]
  },
  {
   "cell_type": "code",
   "execution_count": 41,
   "id": "deec2703-0258-4725-8f1f-9a8067477f9e",
   "metadata": {},
   "outputs": [
    {
     "name": "stdout",
     "output_type": "stream",
     "text": [
      "1.13.0\n"
     ]
    }
   ],
   "source": [
    "print (torch.__version__)"
   ]
  },
  {
   "cell_type": "code",
   "execution_count": 77,
   "id": "92c278b3-f250-4b32-857f-6b5f17f03852",
   "metadata": {},
   "outputs": [],
   "source": [
    "class NN(nn.Module):\n",
    "    def __init__(self,input_size,num_classes):\n",
    "        super(NN,self).__init__()\n",
    "        self.fc1=nn.Linear(input_size,50)\n",
    "        self.fc2=nn.Linear(50,num_classes)\n",
    "    \n",
    "    def forward(self,x):\n",
    "        x=F.relu(self.fc1(x))\n",
    "        x=self.fc2(x)\n",
    "        return x"
   ]
  },
  {
   "cell_type": "code",
   "execution_count": 43,
   "id": "8f4d4ec0-4c46-4c6a-9da8-3bf4311aeb6f",
   "metadata": {},
   "outputs": [],
   "source": [
    "##Device\n",
    "device=torch.device('cuda' if torch.cuda.is_available() else 'cpu')"
   ]
  },
  {
   "cell_type": "code",
   "execution_count": 44,
   "id": "27ca9fbe-c59d-4c8a-afed-41cad006d57c",
   "metadata": {},
   "outputs": [],
   "source": [
    "#Hyperparameters\n",
    "input_size=784\n",
    "num_classes=10\n",
    "learning_rate=0.001\n",
    "batch_size=64\n",
    "num_epochs=1"
   ]
  },
  {
   "cell_type": "code",
   "execution_count": 45,
   "id": "476a3cd4-5e1d-45f6-8220-6457c2edca8d",
   "metadata": {},
   "outputs": [],
   "source": [
    "##Load Data\n",
    "train_dataset=datasets.MNIST(root='datasets/',train=True,transform=transforms.ToTensor(),download=True)\n",
    "train_loader=DataLoader(dataset=train_dataset,batch_size=batch_size,shuffle=True)\n",
    "test_dataset=datasets.MNIST(root='datasets/',train=False,transform=transforms.ToTensor(),download=True)\n",
    "test_loader=DataLoader(dataset=test_dataset,batch_size=batch_size,shuffle=True)"
   ]
  },
  {
   "cell_type": "code",
   "execution_count": 79,
   "id": "24cce356-d78a-4360-8099-5c52ec2d9506",
   "metadata": {},
   "outputs": [],
   "source": [
    "#Intialize the model\n",
    "model=NN(input_size=input_size,num_classes=num_classes).to(device)"
   ]
  },
  {
   "cell_type": "code",
   "execution_count": 75,
   "id": "e774914f-a937-4808-9738-8a8493596ef9",
   "metadata": {},
   "outputs": [],
   "source": [
    "#Loss Function\n",
    "criterion=nn.CrossEntropyLoss()\n",
    "optimizer=optim.Adam(model.parameters(),lr=learning_rate)"
   ]
  },
  {
   "cell_type": "code",
   "execution_count": 86,
   "id": "94f38a62-1183-4caa-a70e-4a4440f37c9e",
   "metadata": {},
   "outputs": [],
   "source": [
    "#train the model\n",
    "for epoch in range(num_epochs):\n",
    "    for batch_idx, (data,target) in enumerate(train_loader):\n",
    "        #Set data to cuda\n",
    "        data=data.to(device=device)\n",
    "        target=target.to(device=device)\n",
    "        #Reshape \n",
    "        data=data.reshape(data.shape[0],-1)\n",
    "        #forward\n",
    "        scores=model(data)\n",
    "        #loss\n",
    "        loss=criterion(scores,target)\n",
    "        #Backward\n",
    "        optimizer.zero_grad()\n",
    "        loss.backward()\n",
    "        #GD or adam step\n",
    "        optimizer.step()"
   ]
  },
  {
   "cell_type": "code",
   "execution_count": 71,
   "id": "03540f5a-4c49-4e32-ae56-5e39f7d2673b",
   "metadata": {},
   "outputs": [],
   "source": [
    "#Check accuracy\n",
    "def check_accuracy(loader,model):\n",
    "    if loader.dataset.train:\n",
    "        print(\"Accuracy on train data: \")\n",
    "    else:\n",
    "        print(\"Accuracy on test data: \")\n",
    "    num_correct=0\n",
    "    num_samples=0\n",
    "    model.eval()\n",
    "    with torch.no_grad():\n",
    "        for x,y in loader:\n",
    "            x=x.to(device=device)\n",
    "            y=y.to(device=device)\n",
    "            x=x.reshape(x.shape[0],-1)\n",
    "            score=model(x)\n",
    "            _,pred=score.max(1)\n",
    "            num_correct+=(pred==y).sum()\n",
    "            num_samples+=pred.size(0)\n",
    "    print(f'Got {num_correct} / {num_samples} with a accuracy of {float(num_correct)/float(num_samples)*100:.2f}')\n",
    "    model.train()"
   ]
  },
  {
   "cell_type": "code",
   "execution_count": 72,
   "id": "82eb6ec0-a36f-4126-9a1e-7e1b52daee6e",
   "metadata": {},
   "outputs": [
    {
     "name": "stdout",
     "output_type": "stream",
     "text": [
      "Accuracy on train data: \n",
      "Got 55761 / 60000 with a accuracy of 92.94\n",
      "Accuracy on test data: \n",
      "Got 9303 / 10000 with a accuracy of 93.03\n"
     ]
    }
   ],
   "source": [
    "check_accuracy(train_loader,model)\n",
    "check_accuracy(test_loader,model)"
   ]
  },
  {
   "cell_type": "code",
   "execution_count": null,
   "id": "93bfc832-578f-4362-841a-db9bf53ff738",
   "metadata": {},
   "outputs": [],
   "source": []
  }
 ],
 "metadata": {
  "kernelspec": {
   "display_name": "Python 3 (ipykernel)",
   "language": "python",
   "name": "python3"
  },
  "language_info": {
   "codemirror_mode": {
    "name": "ipython",
    "version": 3
   },
   "file_extension": ".py",
   "mimetype": "text/x-python",
   "name": "python",
   "nbconvert_exporter": "python",
   "pygments_lexer": "ipython3",
   "version": "3.10.6"
  }
 },
 "nbformat": 4,
 "nbformat_minor": 5
}
